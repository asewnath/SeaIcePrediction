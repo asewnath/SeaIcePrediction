{
 "cells": [
  {
   "cell_type": "markdown",
   "metadata": {},
   "source": [
    "# Gridding notebook\n",
    "\n",
    "Date: 09/24/2017  \n",
    "Author: Alek Petty  \n",
    "Updates: 04/20/2018 updated the description as we have ported this over to a new repo.  \n",
    "\n",
    "Description: Notebook showing the gridding of sea ice data\n",
    "Based on the grid_iceconcA.py script\n",
    "\n",
    "Notes: \n",
    "This only grids data for one year (of your choosing). The Python script included in the same directory is set up as a loop calling a function to produce forecasts for a series of years. \n",
    "\n"
   ]
  },
  {
   "cell_type": "code",
   "execution_count": 13,
   "metadata": {},
   "outputs": [],
   "source": [
    "# Import Python libraries\n",
    "%matplotlib inline\n",
    "\n",
    "import argparse # for passing variables from bash\n",
    "import sys\n",
    "sys.path.append('../')\n",
    "import forecast_funcs as ff\n",
    "from pylab import *\n",
    "\n",
    "from mpl_toolkits.basemap import Basemap\n",
    "\n",
    "from scipy.interpolate import griddata\n",
    "\n",
    "from netCDF4 import Dataset\n",
    "\n",
    "# REPLACE THIS WITH A REPO PATH TO A MONTHLY RAW CONC DATA FILE\n",
    "\n",
    "# File paths\n",
    "datapath = '../../Data/'\n",
    "rawdatapath='../../Data/'\n",
    "dataoutpath='../../DataOutput/IceConcA/'\n",
    "figpath='../../Figures/Arctic/IceConc/'"
   ]
  },
  {
   "cell_type": "code",
   "execution_count": 1,
   "metadata": {},
   "outputs": [
    {
     "ename": "NameError",
     "evalue": "name 'Basemap' is not defined",
     "output_type": "error",
     "traceback": [
      "\u001b[0;31m---------------------------------------------------------------------------\u001b[0m",
      "\u001b[0;31mNameError\u001b[0m                                 Traceback (most recent call last)",
      "\u001b[0;32m<ipython-input-1-23230ac41296>\u001b[0m in \u001b[0;36m<module>\u001b[0;34m()\u001b[0m\n\u001b[1;32m      1\u001b[0m \u001b[0;31m# Get map projection and create regularly spaced grid from this projection\u001b[0m\u001b[0;34m\u001b[0m\u001b[0;34m\u001b[0m\u001b[0m\n\u001b[0;32m----> 2\u001b[0;31m \u001b[0mm\u001b[0m \u001b[0;34m=\u001b[0m \u001b[0mBasemap\u001b[0m\u001b[0;34m(\u001b[0m\u001b[0mprojection\u001b[0m\u001b[0;34m=\u001b[0m\u001b[0;34m'npstere'\u001b[0m\u001b[0;34m,\u001b[0m\u001b[0mboundinglat\u001b[0m\u001b[0;34m=\u001b[0m\u001b[0;36m65\u001b[0m\u001b[0;34m,\u001b[0m\u001b[0mlon_0\u001b[0m\u001b[0;34m=\u001b[0m\u001b[0;36m0\u001b[0m\u001b[0;34m,\u001b[0m \u001b[0mresolution\u001b[0m\u001b[0;34m=\u001b[0m\u001b[0;34m'l'\u001b[0m\u001b[0;34m)\u001b[0m\u001b[0;34m\u001b[0m\u001b[0m\n\u001b[0m\u001b[1;32m      3\u001b[0m \u001b[0;34m\u001b[0m\u001b[0m\n\u001b[1;32m      4\u001b[0m \u001b[0mdx_res\u001b[0m \u001b[0;34m=\u001b[0m \u001b[0;36m100000.\u001b[0m \u001b[0;31m# 100 km\u001b[0m\u001b[0;34m\u001b[0m\u001b[0m\n\u001b[1;32m      5\u001b[0m \u001b[0mnx\u001b[0m \u001b[0;34m=\u001b[0m \u001b[0mint\u001b[0m\u001b[0;34m(\u001b[0m\u001b[0;34m(\u001b[0m\u001b[0mm\u001b[0m\u001b[0;34m.\u001b[0m\u001b[0mxmax\u001b[0m\u001b[0;34m-\u001b[0m\u001b[0mm\u001b[0m\u001b[0;34m.\u001b[0m\u001b[0mxmin\u001b[0m\u001b[0;34m)\u001b[0m\u001b[0;34m/\u001b[0m\u001b[0mdx_res\u001b[0m\u001b[0;34m)\u001b[0m\u001b[0;34m+\u001b[0m\u001b[0;36m1\u001b[0m\u001b[0;34m;\u001b[0m \u001b[0mny\u001b[0m \u001b[0;34m=\u001b[0m \u001b[0mint\u001b[0m\u001b[0;34m(\u001b[0m\u001b[0;34m(\u001b[0m\u001b[0mm\u001b[0m\u001b[0;34m.\u001b[0m\u001b[0mymax\u001b[0m\u001b[0;34m-\u001b[0m\u001b[0mm\u001b[0m\u001b[0;34m.\u001b[0m\u001b[0mymin\u001b[0m\u001b[0;34m)\u001b[0m\u001b[0;34m/\u001b[0m\u001b[0mdx_res\u001b[0m\u001b[0;34m)\u001b[0m\u001b[0;34m+\u001b[0m\u001b[0;36m1\u001b[0m\u001b[0;34m\u001b[0m\u001b[0m\n",
      "\u001b[0;31mNameError\u001b[0m: name 'Basemap' is not defined"
     ]
    }
   ],
   "source": [
    "# Get map projection and create regularly spaced grid from this projection\n",
    "m = Basemap(projection='npstere',boundinglat=65,lon_0=0, resolution='l')\n",
    "\n",
    "dx_res = 100000. # 100 km\n",
    "nx = int((m.xmax-m.xmin)/dx_res)+1; ny = int((m.ymax-m.ymin)/dx_res)+1\n",
    "grid_str=str(int(dx_res/1000))+'km'\n",
    "lonsG, latsG, xptsG, yptsG = m.makegrid(nx, ny, returnxy=True)\n",
    "#xptsG.dump(dataoutpath+'xpts'+grid_str+poleStr)\n",
    "#yptsG.dump(dataoutpath+'ypts'+grid_str+poleStr)\n",
    "\n",
    "\n",
    "poleStr='AA'# 'A: Arctic, AA: Antarctic\n",
    "month=5 # 5=June, 0=January\n",
    "year=2016\n",
    "\n",
    "# Get lon/lats pf the ice concentration data on polar sterographic grid\n",
    "lats, lons = ff.get_psnlatslons(datapath)\n",
    "xpts, ypts =m(lons, lats)\n",
    "\n",
    "f = Dataset(datapath+'/OTHER/NIC_valid_ice_mask.N25km.01.1972-2007.nc', 'r')\n",
    "ice_flag = f.variables['valid_ice_flag'][:]\n",
    "\n",
    "alg=0 #0=Nasa team\n",
    "\n",
    "if (year>2015):\n",
    "    ice_conc = ff.get_month_concSN_NRT(datapath, year, month, alg=alg, pole=poleStr, monthMean=1)\n",
    "    # Mask values below 0.15\n",
    "    ice_conc=ma.masked_where(ice_conc<=0.15, ice_conc)\n",
    "else:\n",
    "    ice_conc = ff.get_month_concSN(datapath, year, month, alg=alg, pole=poleStr)\n",
    "\n",
    "# fill ice concentration data with zeroes\n",
    "ice_conc = ice_conc.filled(0)\n",
    "\n",
    "ice_conc = where((ice_flag >=1.5), 0, ice_conc)"
   ]
  },
  {
   "cell_type": "code",
   "execution_count": 2,
   "metadata": {},
   "outputs": [
    {
     "ename": "NameError",
     "evalue": "name 'figure' is not defined",
     "output_type": "error",
     "traceback": [
      "\u001b[0;31m---------------------------------------------------------------------------\u001b[0m",
      "\u001b[0;31mNameError\u001b[0m                                 Traceback (most recent call last)",
      "\u001b[0;32m<ipython-input-2-660899d0db22>\u001b[0m in \u001b[0;36m<module>\u001b[0;34m()\u001b[0m\n\u001b[0;32m----> 1\u001b[0;31m \u001b[0mfig\u001b[0m \u001b[0;34m=\u001b[0m \u001b[0mfigure\u001b[0m\u001b[0;34m(\u001b[0m\u001b[0mfigsize\u001b[0m\u001b[0;34m=\u001b[0m\u001b[0;34m(\u001b[0m\u001b[0;36m6\u001b[0m\u001b[0;34m,\u001b[0m\u001b[0;36m6\u001b[0m\u001b[0;34m)\u001b[0m\u001b[0;34m)\u001b[0m\u001b[0;34m\u001b[0m\u001b[0m\n\u001b[0m\u001b[1;32m      2\u001b[0m \u001b[0max1\u001b[0m\u001b[0;34m=\u001b[0m\u001b[0mgca\u001b[0m\u001b[0;34m(\u001b[0m\u001b[0;34m)\u001b[0m\u001b[0;34m\u001b[0m\u001b[0m\n\u001b[1;32m      3\u001b[0m \u001b[0;34m\u001b[0m\u001b[0m\n\u001b[1;32m      4\u001b[0m \u001b[0mim1\u001b[0m \u001b[0;34m=\u001b[0m \u001b[0mm\u001b[0m\u001b[0;34m.\u001b[0m\u001b[0mpcolormesh\u001b[0m\u001b[0;34m(\u001b[0m\u001b[0mxpts\u001b[0m \u001b[0;34m,\u001b[0m \u001b[0mypts\u001b[0m\u001b[0;34m,\u001b[0m \u001b[0mice_conc\u001b[0m\u001b[0;34m,\u001b[0m \u001b[0mcmap\u001b[0m\u001b[0;34m=\u001b[0m\u001b[0mcm\u001b[0m\u001b[0;34m.\u001b[0m\u001b[0mBlues_r\u001b[0m\u001b[0;34m,\u001b[0m \u001b[0mvmin\u001b[0m\u001b[0;34m=\u001b[0m\u001b[0;36m0\u001b[0m\u001b[0;34m,\u001b[0m \u001b[0mvmax\u001b[0m\u001b[0;34m=\u001b[0m\u001b[0;36m1\u001b[0m\u001b[0;34m,\u001b[0m\u001b[0mshading\u001b[0m\u001b[0;34m=\u001b[0m\u001b[0;34m'gouraud'\u001b[0m\u001b[0;34m,\u001b[0m \u001b[0mzorder\u001b[0m\u001b[0;34m=\u001b[0m\u001b[0;36m2\u001b[0m\u001b[0;34m)\u001b[0m\u001b[0;34m\u001b[0m\u001b[0m\n\u001b[1;32m      5\u001b[0m \u001b[0;34m\u001b[0m\u001b[0m\n",
      "\u001b[0;31mNameError\u001b[0m: name 'figure' is not defined"
     ]
    }
   ],
   "source": [
    "fig = figure(figsize=(6,6))\n",
    "ax1=gca()\n",
    "\n",
    "im1 = m.pcolormesh(xpts , ypts, ice_conc, cmap=cm.Blues_r, vmin=0, vmax=1,shading='gouraud', zorder=2)\n",
    "\n",
    "m.drawcoastlines(linewidth=0.25, zorder=5)\n",
    "m.drawparallels(np.arange(90,-90,-10), linewidth = 0.25, zorder=3)\n",
    "m.drawmeridians(np.arange(-180.,180.,30.), linewidth = 0.25, zorder=3)\n",
    "m.fillcontinents(color='0.8',lake_color='0.7', zorder=2) #This throws an error before change\n",
    "\n",
    "subplots_adjust( right = 0.99, left = 0.01, top=0.99, bottom=0.01)\n",
    "#savefig(figpath+'/Arctic_BaKa_ice_extent_map_day1.png', dpi=1000)\n",
    "plt.show()\n",
    "\n",
    "# Note the pole hole due to the incomplete satellite orbit"
   ]
  },
  {
   "cell_type": "code",
   "execution_count": 3,
   "metadata": {},
   "outputs": [
    {
     "ename": "NameError",
     "evalue": "name 'year' is not defined",
     "output_type": "error",
     "traceback": [
      "\u001b[0;31m---------------------------------------------------------------------------\u001b[0m",
      "\u001b[0;31mNameError\u001b[0m                                 Traceback (most recent call last)",
      "\u001b[0;32m<ipython-input-3-934e5530367a>\u001b[0m in \u001b[0;36m<module>\u001b[0;34m()\u001b[0m\n\u001b[1;32m      3\u001b[0m \u001b[0;31m#SSM/I Pole Hole Mask   87.2    July 1987 through December 2007\u001b[0m\u001b[0;34m\u001b[0m\u001b[0;34m\u001b[0m\u001b[0m\n\u001b[1;32m      4\u001b[0m \u001b[0;31m#SMMR Pole Hole Mask - 84.5     November 1978 through June 1987\u001b[0m\u001b[0;34m\u001b[0m\u001b[0;34m\u001b[0m\u001b[0m\n\u001b[0;32m----> 5\u001b[0;31m \u001b[0;32mif\u001b[0m \u001b[0;34m(\u001b[0m\u001b[0myear\u001b[0m\u001b[0;34m<\u001b[0m\u001b[0;36m1987\u001b[0m\u001b[0;34m)\u001b[0m\u001b[0;34m:\u001b[0m\u001b[0;34m\u001b[0m\u001b[0m\n\u001b[0m\u001b[1;32m      6\u001b[0m     \u001b[0mpmask\u001b[0m\u001b[0;34m=\u001b[0m\u001b[0;36m84.\u001b[0m\u001b[0;34m\u001b[0m\u001b[0m\n\u001b[1;32m      7\u001b[0m \u001b[0;32melif\u001b[0m\u001b[0;34m(\u001b[0m\u001b[0;34m(\u001b[0m\u001b[0myear\u001b[0m\u001b[0;34m==\u001b[0m\u001b[0;36m1987\u001b[0m\u001b[0;34m)\u001b[0m\u001b[0;34m&\u001b[0m\u001b[0;34m(\u001b[0m\u001b[0mmonth\u001b[0m\u001b[0;34m<=\u001b[0m\u001b[0;36m5\u001b[0m\u001b[0;34m)\u001b[0m\u001b[0;34m)\u001b[0m\u001b[0;34m:\u001b[0m\u001b[0;34m\u001b[0m\u001b[0m\n",
      "\u001b[0;31mNameError\u001b[0m: name 'year' is not defined"
     ]
    }
   ],
   "source": [
    "#remove half a degree as gridding around the pole hole edge\n",
    "#SSMIS 89.18 -\tJanuary 2008 to present\n",
    "#SSM/I Pole Hole Mask\t87.2\tJuly 1987 through December 2007\n",
    "#SMMR Pole Hole Mask - 84.5\tNovember 1978 through June 1987\n",
    "if (year<1987):\n",
    "    pmask=84.\n",
    "elif((year==1987)&(month<=5)):\n",
    "    pmask=84.\n",
    "elif ((year==1987)&(month>5)):\n",
    "    pmask=86.5\n",
    "elif ((year>1987)&(year<2008)):\n",
    "    pmask=86.5\n",
    "else:\n",
    "    pmask=88.5\n",
    "\n",
    "# Grid data\n",
    "ice_concG = griddata((xpts.flatten(), ypts.flatten()),ice_conc.flatten(), (xptsG, yptsG), method='linear')\n",
    "ice_conc_ma=ma.masked_where(np.isnan(ice_concG), ice_concG)\n",
    "ice_conc_ma=ma.masked_where((latsG>pmask), ice_conc_ma)\n",
    "\n"
   ]
  },
  {
   "cell_type": "code",
   "execution_count": 4,
   "metadata": {},
   "outputs": [
    {
     "ename": "NameError",
     "evalue": "name 'figure' is not defined",
     "output_type": "error",
     "traceback": [
      "\u001b[0;31m---------------------------------------------------------------------------\u001b[0m",
      "\u001b[0;31mNameError\u001b[0m                                 Traceback (most recent call last)",
      "\u001b[0;32m<ipython-input-4-77bb6c5eec49>\u001b[0m in \u001b[0;36m<module>\u001b[0;34m()\u001b[0m\n\u001b[0;32m----> 1\u001b[0;31m \u001b[0mfig\u001b[0m \u001b[0;34m=\u001b[0m \u001b[0mfigure\u001b[0m\u001b[0;34m(\u001b[0m\u001b[0mfigsize\u001b[0m\u001b[0;34m=\u001b[0m\u001b[0;34m(\u001b[0m\u001b[0;36m6\u001b[0m\u001b[0;34m,\u001b[0m\u001b[0;36m6\u001b[0m\u001b[0;34m)\u001b[0m\u001b[0;34m)\u001b[0m\u001b[0;34m\u001b[0m\u001b[0m\n\u001b[0m\u001b[1;32m      2\u001b[0m \u001b[0max1\u001b[0m\u001b[0;34m=\u001b[0m\u001b[0mgca\u001b[0m\u001b[0;34m(\u001b[0m\u001b[0;34m)\u001b[0m\u001b[0;34m\u001b[0m\u001b[0m\n\u001b[1;32m      3\u001b[0m \u001b[0;34m\u001b[0m\u001b[0m\n\u001b[1;32m      4\u001b[0m \u001b[0mim1\u001b[0m \u001b[0;34m=\u001b[0m \u001b[0mm\u001b[0m\u001b[0;34m.\u001b[0m\u001b[0mpcolormesh\u001b[0m\u001b[0;34m(\u001b[0m\u001b[0mxptsG\u001b[0m \u001b[0;34m,\u001b[0m \u001b[0myptsG\u001b[0m\u001b[0;34m,\u001b[0m \u001b[0mice_conc_ma\u001b[0m\u001b[0;34m,\u001b[0m \u001b[0mcmap\u001b[0m\u001b[0;34m=\u001b[0m\u001b[0mcm\u001b[0m\u001b[0;34m.\u001b[0m\u001b[0mBlues_r\u001b[0m\u001b[0;34m,\u001b[0m \u001b[0mvmin\u001b[0m\u001b[0;34m=\u001b[0m\u001b[0;36m0\u001b[0m\u001b[0;34m,\u001b[0m \u001b[0mvmax\u001b[0m\u001b[0;34m=\u001b[0m\u001b[0;36m1\u001b[0m\u001b[0;34m,\u001b[0m\u001b[0mshading\u001b[0m\u001b[0;34m=\u001b[0m\u001b[0;34m'flat'\u001b[0m\u001b[0;34m,\u001b[0m \u001b[0mzorder\u001b[0m\u001b[0;34m=\u001b[0m\u001b[0;36m2\u001b[0m\u001b[0;34m)\u001b[0m\u001b[0;34m\u001b[0m\u001b[0m\n\u001b[1;32m      5\u001b[0m \u001b[0;34m\u001b[0m\u001b[0m\n",
      "\u001b[0;31mNameError\u001b[0m: name 'figure' is not defined"
     ]
    }
   ],
   "source": [
    "fig = figure(figsize=(6,6))\n",
    "ax1=gca()\n",
    "\n",
    "im1 = m.pcolormesh(xptsG , yptsG, ice_conc_ma, cmap=cm.Blues_r, vmin=0, vmax=1,shading='flat', zorder=2)\n",
    "\n",
    "m.drawcoastlines(linewidth=0.25, zorder=5)\n",
    "m.drawparallels(np.arange(90,-90,-10), linewidth = 0.25, zorder=3)\n",
    "m.drawmeridians(np.arange(-180.,180.,30.), linewidth = 0.25, zorder=3)\n",
    "m.fillcontinents(color='0.8',lake_color='0.7', zorder=2) #This throws an error before change\n",
    "\n",
    "subplots_adjust( right = 0.99, left = 0.01, top=0.99, bottom=0.01)\n",
    "#savefig(figpath+'/Arctic_BaKa_ice_extent_map_day1.png', dpi=1000)\n",
    "plt.show()"
   ]
  },
  {
   "cell_type": "code",
   "execution_count": null,
   "metadata": {},
   "outputs": [],
   "source": []
  }
 ],
 "metadata": {
  "kernelspec": {
   "display_name": "Python 3",
   "language": "python",
   "name": "python3"
  },
  "language_info": {
   "codemirror_mode": {
    "name": "ipython",
    "version": 3
   },
   "file_extension": ".py",
   "mimetype": "text/x-python",
   "name": "python",
   "nbconvert_exporter": "python",
   "pygments_lexer": "ipython3",
   "version": "3.6.5"
  }
 },
 "nbformat": 4,
 "nbformat_minor": 1
}
